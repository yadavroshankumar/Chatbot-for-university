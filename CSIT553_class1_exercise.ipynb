{
  "cells": [
    {
      "cell_type": "markdown",
      "metadata": {
        "id": "view-in-github",
        "colab_type": "text"
      },
      "source": [
        "<a href=\"https://colab.research.google.com/github/yadavroshankumar/Chatbot-for-university/blob/main/CSIT553_class1_exercise.ipynb\" target=\"_parent\"><img src=\"https://colab.research.google.com/assets/colab-badge.svg\" alt=\"Open In Colab\"/></a>"
      ]
    },
    {
      "cell_type": "code",
      "source": [
        "# only run once\n",
        "!git clone https://github.com/profliuhao/CSIT553.git"
      ],
      "metadata": {
        "colab": {
          "base_uri": "https://localhost:8080/"
        },
        "id": "0P7jOUG7SLpi",
        "outputId": "747c89fb-767d-458c-b176-8bf0e8873873"
      },
      "execution_count": null,
      "outputs": [
        {
          "output_type": "stream",
          "name": "stdout",
          "text": [
            "Cloning into 'CSIT553'...\n",
            "remote: Enumerating objects: 25, done.\u001b[K\n",
            "remote: Counting objects: 100% (25/25), done.\u001b[K\n",
            "remote: Compressing objects: 100% (17/17), done.\u001b[K\n",
            "remote: Total 25 (delta 3), reused 18 (delta 2), pack-reused 0\u001b[K\n",
            "Receiving objects: 100% (25/25), 164.48 KiB | 6.09 MiB/s, done.\n",
            "Resolving deltas: 100% (3/3), done.\n"
          ]
        }
      ]
    },
    {
      "cell_type": "markdown",
      "metadata": {
        "id": "iengm4QASFDU"
      },
      "source": [
        "# CSIT 553 Class 1 Eexercise: Numpy\n"
      ]
    },
    {
      "cell_type": "markdown",
      "metadata": {
        "id": "_ZUfC-GzSFDV"
      },
      "source": [
        "### Instruction\n",
        "Load the data **iris.data** and create a 2d-array called *iris* to store the first four columns (sepallenght, sepalwidth, petallength, petalwidth).\n",
        "\n",
        "Each row represents the data of one sample.\n"
      ]
    },
    {
      "cell_type": "code",
      "execution_count": null,
      "metadata": {
        "id": "48uhGgscSFDW"
      },
      "outputs": [],
      "source": [
        "import numpy as np\n",
        "\n",
        "# file = 'iris.data'/\n",
        "file = '/content/CSIT553/Module_1/CSIT553_class1_exercise/iris.data'\n",
        "iris = np.genfromtxt(file, delimiter=',')\n",
        "iris = iris[:,:4]\n",
        "#names = ('sepallength', 'sepalwidth', 'petallength', 'petalwidth', 'species')"
      ]
    },
    {
      "cell_type": "code",
      "execution_count": null,
      "metadata": {
        "id": "Osw3BVumSFDW"
      },
      "outputs": [],
      "source": [
        "iris"
      ]
    },
    {
      "cell_type": "markdown",
      "metadata": {
        "id": "2BqxBYyZSFDW"
      },
      "source": [
        "## Exercise 1\n",
        "\n",
        "How many samples are recorded? In other words, how many rows is in the array **iris**?"
      ]
    },
    {
      "cell_type": "code",
      "execution_count": null,
      "metadata": {
        "id": "6BO5OU7BSFDW"
      },
      "outputs": [],
      "source": [
        "# You should write your answer within this cell\n",
        "# write your code of exercise 1 here\n",
        "\n"
      ]
    },
    {
      "cell_type": "markdown",
      "metadata": {
        "id": "y4tpUe_sSFDW"
      },
      "source": [
        "## Exercise 2\n",
        "What is the mean value of each feature?"
      ]
    },
    {
      "cell_type": "code",
      "execution_count": null,
      "metadata": {
        "id": "HXC3B--ASFDW"
      },
      "outputs": [],
      "source": [
        "# You should write your answer within this cell\n",
        "# write your code of exercise 2 here\n",
        "\n"
      ]
    },
    {
      "cell_type": "markdown",
      "metadata": {
        "id": "WsdTCvgJSFDX"
      },
      "source": [
        "### Exercise 3\n",
        "Find the samples with sepal length larger than 5 and sepal width smaller than 3."
      ]
    },
    {
      "cell_type": "code",
      "execution_count": null,
      "metadata": {
        "id": "BbCl1df6SFDX"
      },
      "outputs": [],
      "source": [
        "# You should write your answer within this cell\n",
        "# write your code of exercise 3 here\n",
        "\n"
      ]
    },
    {
      "cell_type": "markdown",
      "metadata": {
        "id": "cr9rHKpcSFDX"
      },
      "source": [
        "## Exercise 4\n",
        "What is the correlation between petal length and petal width?\n",
        "\n",
        "### Hint\n",
        "The function **corrcoef** in Numpy return Pearson product-moment correlation coefficients.\n",
        "\n",
        "If you want to get the Pearson correlation coefficients between the variables in **xarr** and **yarr**, you can execute the command:\n",
        "\n",
        "np.corrcoef(xarr, yarr)"
      ]
    },
    {
      "cell_type": "code",
      "execution_count": null,
      "metadata": {
        "id": "fYndmPYrSFDX"
      },
      "outputs": [],
      "source": [
        "# You should write your answer within this cell\n",
        "# write your code of exercise 4 here\n",
        "\n"
      ]
    },
    {
      "cell_type": "code",
      "execution_count": null,
      "metadata": {
        "id": "pAraDEicSFDX"
      },
      "outputs": [],
      "source": []
    }
  ],
  "metadata": {
    "kernelspec": {
      "display_name": "Python 3 (ipykernel)",
      "language": "python",
      "name": "python3"
    },
    "language_info": {
      "codemirror_mode": {
        "name": "ipython",
        "version": 3
      },
      "file_extension": ".py",
      "mimetype": "text/x-python",
      "name": "python",
      "nbconvert_exporter": "python",
      "pygments_lexer": "ipython3",
      "version": "3.9.11"
    },
    "colab": {
      "provenance": [],
      "include_colab_link": true
    }
  },
  "nbformat": 4,
  "nbformat_minor": 0
}