{
  "cells": [
    {
      "cell_type": "markdown",
      "metadata": {
        "id": "view-in-github",
        "colab_type": "text"
      },
      "source": [
        "<a href=\"https://colab.research.google.com/github/yadavroshankumar/Chatbot-for-university/blob/main/CSIT553_class1_exercise.ipynb\" target=\"_parent\"><img src=\"https://colab.research.google.com/assets/colab-badge.svg\" alt=\"Open In Colab\"/></a>"
      ]
    },
    {
      "cell_type": "code",
      "source": [
        "# only run once\n",
        "!git clone https://github.com/profliuhao/CSIT553.git"
      ],
      "metadata": {
        "colab": {
          "base_uri": "https://localhost:8080/"
        },
        "id": "0P7jOUG7SLpi",
        "outputId": "386a3dec-0489-4011-edcc-da3ffbd2d468"
      },
      "execution_count": 9,
      "outputs": [
        {
          "output_type": "stream",
          "name": "stdout",
          "text": [
            "Cloning into 'CSIT553'...\n",
            "remote: Enumerating objects: 145, done.\u001b[K\n",
            "remote: Counting objects: 100% (145/145), done.\u001b[K\n",
            "remote: Compressing objects: 100% (122/122), done.\u001b[K\n",
            "remote: Total 145 (delta 58), reused 50 (delta 11), pack-reused 0 (from 0)\u001b[K\n",
            "Receiving objects: 100% (145/145), 4.34 MiB | 10.64 MiB/s, done.\n",
            "Resolving deltas: 100% (58/58), done.\n"
          ]
        }
      ]
    },
    {
      "cell_type": "markdown",
      "metadata": {
        "id": "iengm4QASFDU"
      },
      "source": [
        "# CSIT 553 Class 1 Eexercise: Numpy\n"
      ]
    },
    {
      "cell_type": "markdown",
      "metadata": {
        "id": "_ZUfC-GzSFDV"
      },
      "source": [
        "### Instruction\n",
        "Load the data **iris.data** and create a 2d-array called *iris* to store the first four columns (sepallenght, sepalwidth, petallength, petalwidth).\n",
        "\n",
        "Each row represents the data of one sample.\n"
      ]
    },
    {
      "cell_type": "code",
      "execution_count": 20,
      "metadata": {
        "id": "48uhGgscSFDW"
      },
      "outputs": [],
      "source": [
        "import numpy as np\n",
        "\n",
        "# file = 'iris.data'/\n",
        "file = '/content/CSIT553/Module_1/CSIT553_class1_exercise/iris.data'\n",
        "iris = np.genfromtxt(file, delimiter=',')\n",
        "iris = iris[:,:4]\n",
        "#names = ('sepallength', 'sepalwidth', 'petallength', 'petalwidth', 'species')\n",
        "# iris"
      ]
    },
    {
      "cell_type": "code",
      "execution_count": null,
      "metadata": {
        "id": "Osw3BVumSFDW"
      },
      "outputs": [],
      "source": [
        "iris"
      ]
    },
    {
      "cell_type": "markdown",
      "metadata": {
        "id": "2BqxBYyZSFDW"
      },
      "source": [
        "## Exercise 1\n",
        "\n",
        "How many samples are recorded? In other words, how many rows is in the array **iris**?"
      ]
    },
    {
      "cell_type": "code",
      "execution_count": 15,
      "metadata": {
        "id": "6BO5OU7BSFDW",
        "outputId": "b42e9a15-eeeb-49c9-eaeb-ec128840888d",
        "colab": {
          "base_uri": "https://localhost:8080/"
        }
      },
      "outputs": [
        {
          "output_type": "execute_result",
          "data": {
            "text/plain": [
              "150"
            ]
          },
          "metadata": {},
          "execution_count": 15
        }
      ],
      "source": [
        "# You should write your answer within this cell\n",
        "# write your code of exercise 1 here\n",
        "row,column=iris.shape\n",
        "row\n"
      ]
    },
    {
      "cell_type": "markdown",
      "metadata": {
        "id": "y4tpUe_sSFDW"
      },
      "source": [
        "## Exercise 2\n",
        "What is the mean value of each feature?"
      ]
    },
    {
      "cell_type": "code",
      "execution_count": 18,
      "metadata": {
        "id": "HXC3B--ASFDW",
        "outputId": "a51e4af5-fdd5-4de6-9f01-97f6c88bca71",
        "colab": {
          "base_uri": "https://localhost:8080/"
        }
      },
      "outputs": [
        {
          "output_type": "execute_result",
          "data": {
            "text/plain": [
              "array([5.84333333, 3.054     , 3.75866667, 1.19866667])"
            ]
          },
          "metadata": {},
          "execution_count": 18
        }
      ],
      "source": [
        "# You should write your answer within this cell\n",
        "# write your code of exercise 2 here\n",
        "np.mean(iris,axis=0)\n"
      ]
    },
    {
      "cell_type": "markdown",
      "metadata": {
        "id": "WsdTCvgJSFDX"
      },
      "source": [
        "### Exercise 3\n",
        "Find the samples with sepal length larger than 5 and sepal width smaller than 3."
      ]
    },
    {
      "cell_type": "code",
      "execution_count": 26,
      "metadata": {
        "id": "BbCl1df6SFDX",
        "outputId": "bcb346ba-a3f5-42cb-f60b-0be1f3ba4e14",
        "colab": {
          "base_uri": "https://localhost:8080/"
        }
      },
      "outputs": [
        {
          "output_type": "execute_result",
          "data": {
            "text/plain": [
              "(51, 4)"
            ]
          },
          "metadata": {},
          "execution_count": 26
        }
      ],
      "source": [
        "# You should write your answer within this cell\n",
        "# write your code of exercise 3 here\n",
        "\n",
        "res=iris[(iris[:,0]>5) &(iris[:,1]<3)]\n",
        "res.shape"
      ]
    },
    {
      "cell_type": "markdown",
      "metadata": {
        "id": "cr9rHKpcSFDX"
      },
      "source": [
        "## Exercise 4\n",
        "What is the correlation between petal length and petal width?\n",
        "\n",
        "### Hint\n",
        "The function **corrcoef** in Numpy return Pearson product-moment correlation coefficients.\n",
        "\n",
        "If you want to get the Pearson correlation coefficients between the variables in **xarr** and **yarr**, you can execute the command:\n",
        "\n",
        "np.corrcoef(xarr, yarr)"
      ]
    },
    {
      "cell_type": "code",
      "execution_count": 27,
      "metadata": {
        "id": "fYndmPYrSFDX",
        "outputId": "f9660762-2ff4-4b13-cc4e-9411f1144363",
        "colab": {
          "base_uri": "https://localhost:8080/"
        }
      },
      "outputs": [
        {
          "output_type": "execute_result",
          "data": {
            "text/plain": [
              "array([[1.       , 0.9627571],\n",
              "       [0.9627571, 1.       ]])"
            ]
          },
          "metadata": {},
          "execution_count": 27
        }
      ],
      "source": [
        "# You should write your answer within this cell\n",
        "# write your code of exercise 4 here\n",
        "xarr=iris[:,2]\n",
        "yarr=iris[:,3]\n",
        "np.corrcoef(xarr,yarr)\n"
      ]
    },
    {
      "cell_type": "code",
      "execution_count": null,
      "metadata": {
        "id": "pAraDEicSFDX"
      },
      "outputs": [],
      "source": []
    }
  ],
  "metadata": {
    "kernelspec": {
      "display_name": "Python 3 (ipykernel)",
      "language": "python",
      "name": "python3"
    },
    "language_info": {
      "codemirror_mode": {
        "name": "ipython",
        "version": 3
      },
      "file_extension": ".py",
      "mimetype": "text/x-python",
      "name": "python",
      "nbconvert_exporter": "python",
      "pygments_lexer": "ipython3",
      "version": "3.9.11"
    },
    "colab": {
      "provenance": [],
      "include_colab_link": true
    }
  },
  "nbformat": 4,
  "nbformat_minor": 0
}